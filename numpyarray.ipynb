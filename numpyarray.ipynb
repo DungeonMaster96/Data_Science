{
 "cells": [
  {
   "cell_type": "markdown",
   "id": "4bb94f3b",
   "metadata": {},
   "source": [
    "**NumPy stands for Numerical Python. It has following features** : \n",
    "\n",
    "**POWERFUL N-DIMENSIONAL ARRAYS** : Fast and versatile, the NumPy vectorization, indexing, and broadcasting concepts are the de-facto standards of array computing today.\n",
    "\n",
    "**NUMERICAL COMPUTING TOOLS** : NumPy offers comprehensive mathematical functions, random number generators, linear algebra routines, Fourier transforms, and more.\n",
    "\n",
    "**INTEROPERABLE** : NumPy supports a wide range of hardware and computing platforms, and plays well with distributed, GPU, and sparse array libraries.\n",
    "\n",
    "**PERFORMANT** : The core of NumPy is well-optimized C code. Enjoy the flexibility of Python with the speed of compiled code.\n",
    "\n",
    "**EASY TO USE** : NumPy’s high level syntax makes it accessible and productive for programmers from any background or experience level.\n",
    "\n",
    "**OPEN SOURCE** : Distributed under a liberal BSD license, NumPy is developed and maintained publicly on GitHub by a vibrant, responsive, and diverse community.\n"
   ]
  },
  {
   "cell_type": "markdown",
   "id": "f07201ec",
   "metadata": {},
   "source": [
    "**DATASET** :The dataset used to demonstrate the functions of numpy is related to red and white variants of the Portuguese \"Vinho Verde\" wine.Columns of the datasets include:\n",
    "\n",
    "\n",
    "- fixed acidity\n",
    "- volatile acidity\n",
    "- citric acid\n",
    "- residual sugar\n",
    "- chlorides\n",
    "- free sulfur dioxide\n",
    "- total sulfur dioxide\n",
    "- density\n",
    "- pH\n",
    "- sulphates\n",
    "- alcohol\n",
    "- quality (score between 0 and 10)"
   ]
  },
  {
   "cell_type": "markdown",
   "id": "3f499c57",
   "metadata": {},
   "source": [
    "**1-Load Dataset using **:\n",
    " Data is captured from the CSV file into a list which is then converted into a numpy array with the help of np.array\n",
    "  function"
   ]
  },
  {
   "cell_type": "code",
   "execution_count": 3,
   "id": "b000df7f",
   "metadata": {},
   "outputs": [],
   "source": [
    "import csv\n",
    "with open(\"winequality-redcsv.csv\", 'r') as f:\n",
    "    wines = list(csv.reader(f, delimiter=\";\"))\n",
    "import numpy as np\n",
    "wines = np.array(wines[1:], dtype=float)"
   ]
  },
  {
   "cell_type": "markdown",
   "id": "b611faba",
   "metadata": {},
   "source": [
    "**2-Shape**:We can check the number of rows and columns in our data using the shape property of NumPy arrays:"
   ]
  },
  {
   "cell_type": "code",
   "execution_count": 4,
   "id": "cb689dc3",
   "metadata": {},
   "outputs": [
    {
     "data": {
      "text/plain": [
       "(1599, 12)"
      ]
     },
     "execution_count": 4,
     "metadata": {},
     "output_type": "execute_result"
    }
   ],
   "source": [
    "wines.shape"
   ]
  },
  {
   "cell_type": "markdown",
   "id": "ea0b0291",
   "metadata": {},
   "source": [
    "\n",
    "**3-Slicing** :\n",
    "Inorder to select first 4 items from the fourth column, we can use (:). Colon indicates that we want to select all the elements from the starting index up to but not including the ending index. It is called slicing:\n",
    "\n",
    "\n"
   ]
  },
  {
   "cell_type": "code",
   "execution_count": 3,
   "id": "bf003cd3",
   "metadata": {},
   "outputs": [
    {
     "data": {
      "text/plain": [
       "array([1.9, 2.6, 2.3])"
      ]
     },
     "execution_count": 3,
     "metadata": {},
     "output_type": "execute_result"
    }
   ],
   "source": [
    "wines[0:3,3]"
   ]
  },
  {
   "cell_type": "markdown",
   "id": "829198b2",
   "metadata": {},
   "source": [
    "**3.1-Column Selection using Slicing** :We can select an entire column by specifying that we want all the elements, from the first to the last. We specify this by just using the colon (:), with no starting or ending indices. The below code will select the entire fourth column:\n",
    "\n"
   ]
  },
  {
   "cell_type": "code",
   "execution_count": 5,
   "id": "9e25217d",
   "metadata": {},
   "outputs": [
    {
     "data": {
      "text/plain": [
       "array([1.9, 2.6, 2.3, ..., 2.3, 2. , 3.6])"
      ]
     },
     "execution_count": 5,
     "metadata": {},
     "output_type": "execute_result"
    }
   ],
   "source": [
    "wines[:,3]"
   ]
  },
  {
   "cell_type": "markdown",
   "id": "55140358",
   "metadata": {},
   "source": [
    "**4-Indexing the array** :\n",
    "In the below code, we pass in index 2 as the row index, and the index 3 as the column index. This retrieves the value from the fourth column of the third row:"
   ]
  },
  {
   "cell_type": "code",
   "execution_count": 21,
   "id": "2f32f98b",
   "metadata": {},
   "outputs": [
    {
     "data": {
      "text/plain": [
       "0.075"
      ]
     },
     "execution_count": 21,
     "metadata": {},
     "output_type": "execute_result"
    }
   ],
   "source": [
    "wines[3,4]"
   ]
  },
  {
   "cell_type": "markdown",
   "id": "22afbae0",
   "metadata": {},
   "source": [
    "**5-Convert 2D array into a 1D array** : Ravel function of numpy array flattens into a long sequence of values"
   ]
  },
  {
   "cell_type": "code",
   "execution_count": 6,
   "id": "b3d5329c",
   "metadata": {},
   "outputs": [
    {
     "data": {
      "text/plain": [
       "array([ 7.4 ,  0.7 ,  0.  , ...,  0.66, 11.  ,  6.  ])"
      ]
     },
     "execution_count": 6,
     "metadata": {},
     "output_type": "execute_result"
    }
   ],
   "source": [
    "wines.ravel()"
   ]
  },
  {
   "cell_type": "markdown",
   "id": "000db627",
   "metadata": {},
   "source": [
    "**6-Reshape Function** : Reshape function is used to reshape the array with specified rows and columns.For example third row of wines can be converted into a 2-dimensional array with 2 rows and 6 columns:\n",
    "\n"
   ]
  },
  {
   "cell_type": "code",
   "execution_count": 21,
   "id": "0a594abc",
   "metadata": {},
   "outputs": [
    {
     "data": {
      "text/plain": [
       "array([[7.80e+00, 7.60e-01, 4.00e-02, 2.30e+00, 9.20e-02, 1.50e+01],\n",
       "       [5.40e+01, 9.97e-01, 3.26e+00, 6.50e-01, 9.80e+00, 5.00e+00]])"
      ]
     },
     "execution_count": 21,
     "metadata": {},
     "output_type": "execute_result"
    }
   ],
   "source": [
    "wines[2,:].reshape((2,6))"
   ]
  },
  {
   "cell_type": "markdown",
   "id": "09b6be2d",
   "metadata": {},
   "source": [
    "**Combining two numpy arrays** : We can combine multiple arrays into a single array.We can retrieve data from winequality-white.csv dataset that contains information on the quality of white wines, and combine it with our existing dataset, wines, which contains information on red wines. Therefore information is read from the database of white wines by the below code"
   ]
  },
  {
   "cell_type": "code",
   "execution_count": 22,
   "id": "79eca345",
   "metadata": {},
   "outputs": [
    {
     "data": {
      "text/plain": [
       "(4898, 12)"
      ]
     },
     "execution_count": 22,
     "metadata": {},
     "output_type": "execute_result"
    }
   ],
   "source": [
    "whitewines = np.genfromtxt(\"winequality-white.csv\", delimiter=\";\", skip_header=1)\n",
    "whitewines.shape"
   ]
  },
  {
   "cell_type": "markdown",
   "id": "8e1919a6",
   "metadata": {},
   "source": [
    "**7-Vstack Function** :Then we can use vstack function to combine wines and whitewines datasets vertically by the below code.After combining the number of rows increases while number of columns remains the same"
   ]
  },
  {
   "cell_type": "code",
   "execution_count": 23,
   "id": "a3f0b9e2",
   "metadata": {},
   "outputs": [
    {
     "data": {
      "text/plain": [
       "(6497, 12)"
      ]
     },
     "execution_count": 23,
     "metadata": {},
     "output_type": "execute_result"
    }
   ],
   "source": [
    "combinedwines = np.vstack((wines, whitewines))\n",
    "combinedwines.shape"
   ]
  },
  {
   "cell_type": "markdown",
   "id": "a44677ab",
   "metadata": {},
   "source": [
    "We can also use hstack function to combine wines and whitewines datasets horizontally by the below code.After combining the number of column increases while number of rows remains the same. The code is shown below:"
   ]
  },
  {
   "cell_type": "markdown",
   "id": "12ff0632",
   "metadata": {},
   "source": [
    "**8-Concatenate Function**: We can also use concatenate function to combine two arrays along axis. Conacetaninting along first axis is hstack(along the rows) while second axis is vstack(along the columns). The syntax is as follows:"
   ]
  },
  {
   "cell_type": "code",
   "execution_count": 25,
   "id": "59eae631",
   "metadata": {},
   "outputs": [
    {
     "data": {
      "text/plain": [
       "array([[ 7.4 ,  0.7 ,  0.  , ...,  0.56,  9.4 ,  5.  ],\n",
       "       [ 7.8 ,  0.88,  0.  , ...,  0.68,  9.8 ,  5.  ],\n",
       "       [ 7.8 ,  0.76,  0.04, ...,  0.65,  9.8 ,  5.  ],\n",
       "       ...,\n",
       "       [ 6.5 ,  0.24,  0.19, ...,  0.46,  9.4 ,  6.  ],\n",
       "       [ 5.5 ,  0.29,  0.3 , ...,  0.38, 12.8 ,  7.  ],\n",
       "       [ 6.  ,  0.21,  0.38, ...,  0.32, 11.8 ,  6.  ]])"
      ]
     },
     "execution_count": 25,
     "metadata": {},
     "output_type": "execute_result"
    }
   ],
   "source": [
    "np.concatenate((wines, whitewines), axis=0)"
   ]
  },
  {
   "cell_type": "markdown",
   "id": "e56130fd",
   "metadata": {},
   "source": [
    "**9-Sum Function**: If we want total sum of quality score from red wine dataset, we need to call the sum function in the below code. Since it is the last column we need to use -1 in the index of numpy array."
   ]
  },
  {
   "cell_type": "code",
   "execution_count": 28,
   "id": "eeb47d8e",
   "metadata": {},
   "outputs": [
    {
     "name": "stdout",
     "output_type": "stream",
     "text": [
      "9012.0\n"
     ]
    }
   ],
   "source": [
    "qualitysums = wines[:, -1].sum()\n",
    "print(qualitysums)"
   ]
  },
  {
   "cell_type": "markdown",
   "id": "7af1eea9",
   "metadata": {},
   "source": [
    "**10-Mean Function**: We can also find the mean quality score using mean function given below: "
   ]
  },
  {
   "cell_type": "code",
   "execution_count": 29,
   "id": "d9d2a2a2",
   "metadata": {},
   "outputs": [
    {
     "name": "stdout",
     "output_type": "stream",
     "text": [
      "5.6360225140712945\n"
     ]
    }
   ],
   "source": [
    "meanquality = wines[:, -1].mean()\n",
    "print(meanquality)"
   ]
  },
  {
   "cell_type": "code",
   "execution_count": null,
   "id": "46325d2e",
   "metadata": {},
   "outputs": [],
   "source": []
  }
 ],
 "metadata": {
  "kernelspec": {
   "display_name": "Python 3 (ipykernel)",
   "language": "python",
   "name": "python3"
  },
  "language_info": {
   "codemirror_mode": {
    "name": "ipython",
    "version": 3
   },
   "file_extension": ".py",
   "mimetype": "text/x-python",
   "name": "python",
   "nbconvert_exporter": "python",
   "pygments_lexer": "ipython3",
   "version": "3.9.13"
  }
 },
 "nbformat": 4,
 "nbformat_minor": 5
}
